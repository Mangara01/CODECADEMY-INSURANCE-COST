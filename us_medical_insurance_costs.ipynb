{
  "cells": [
    {
      "cell_type": "markdown",
      "metadata": {
        "id": "chQmJJakR_zg"
      },
      "source": [
        "# U.S. Medical Insurance Costs"
      ]
    },
    {
      "cell_type": "markdown",
      "source": [
        "## Import Library"
      ],
      "metadata": {
        "id": "EeFRrGfJv6CD"
      }
    },
    {
      "cell_type": "code",
      "source": [
        "!pip install pycaret\n",
        "!pip install scipy"
      ],
      "metadata": {
        "id": "8rqQVrksMBeI"
      },
      "execution_count": null,
      "outputs": []
    },
    {
      "cell_type": "code",
      "source": [
        "import pandas as pd\n",
        "from pycaret.regression import setup, compare_models, evaluate_model, predict_model, save_model\n",
        "import joblib"
      ],
      "metadata": {
        "id": "3JVlTjYMUAf4"
      },
      "execution_count": 2,
      "outputs": []
    },
    {
      "cell_type": "markdown",
      "source": [
        "## Data Loading"
      ],
      "metadata": {
        "id": "nrvOX1C_v5rh"
      }
    },
    {
      "cell_type": "code",
      "source": [
        "df = pd.read_csv('insurance.csv')"
      ],
      "metadata": {
        "id": "zJVqvCn_UCcg"
      },
      "execution_count": 3,
      "outputs": []
    },
    {
      "cell_type": "code",
      "source": [
        "df.head()"
      ],
      "metadata": {
        "colab": {
          "base_uri": "https://localhost:8080/",
          "height": 206
        },
        "id": "mMuz8BXOUHfw",
        "outputId": "8944ee9c-ee81-4632-9b7b-a068d4382641"
      },
      "execution_count": 4,
      "outputs": [
        {
          "output_type": "execute_result",
          "data": {
            "text/plain": [
              "   age     sex     bmi  children smoker     region      charges\n",
              "0   19  female  27.900         0    yes  southwest  16884.92400\n",
              "1   18    male  33.770         1     no  southeast   1725.55230\n",
              "2   28    male  33.000         3     no  southeast   4449.46200\n",
              "3   33    male  22.705         0     no  northwest  21984.47061\n",
              "4   32    male  28.880         0     no  northwest   3866.85520"
            ],
            "text/html": [
              "\n",
              "  <div id=\"df-78b9d7e8-e715-4eae-952e-5c86d218b967\" class=\"colab-df-container\">\n",
              "    <div>\n",
              "<style scoped>\n",
              "    .dataframe tbody tr th:only-of-type {\n",
              "        vertical-align: middle;\n",
              "    }\n",
              "\n",
              "    .dataframe tbody tr th {\n",
              "        vertical-align: top;\n",
              "    }\n",
              "\n",
              "    .dataframe thead th {\n",
              "        text-align: right;\n",
              "    }\n",
              "</style>\n",
              "<table border=\"1\" class=\"dataframe\">\n",
              "  <thead>\n",
              "    <tr style=\"text-align: right;\">\n",
              "      <th></th>\n",
              "      <th>age</th>\n",
              "      <th>sex</th>\n",
              "      <th>bmi</th>\n",
              "      <th>children</th>\n",
              "      <th>smoker</th>\n",
              "      <th>region</th>\n",
              "      <th>charges</th>\n",
              "    </tr>\n",
              "  </thead>\n",
              "  <tbody>\n",
              "    <tr>\n",
              "      <th>0</th>\n",
              "      <td>19</td>\n",
              "      <td>female</td>\n",
              "      <td>27.900</td>\n",
              "      <td>0</td>\n",
              "      <td>yes</td>\n",
              "      <td>southwest</td>\n",
              "      <td>16884.92400</td>\n",
              "    </tr>\n",
              "    <tr>\n",
              "      <th>1</th>\n",
              "      <td>18</td>\n",
              "      <td>male</td>\n",
              "      <td>33.770</td>\n",
              "      <td>1</td>\n",
              "      <td>no</td>\n",
              "      <td>southeast</td>\n",
              "      <td>1725.55230</td>\n",
              "    </tr>\n",
              "    <tr>\n",
              "      <th>2</th>\n",
              "      <td>28</td>\n",
              "      <td>male</td>\n",
              "      <td>33.000</td>\n",
              "      <td>3</td>\n",
              "      <td>no</td>\n",
              "      <td>southeast</td>\n",
              "      <td>4449.46200</td>\n",
              "    </tr>\n",
              "    <tr>\n",
              "      <th>3</th>\n",
              "      <td>33</td>\n",
              "      <td>male</td>\n",
              "      <td>22.705</td>\n",
              "      <td>0</td>\n",
              "      <td>no</td>\n",
              "      <td>northwest</td>\n",
              "      <td>21984.47061</td>\n",
              "    </tr>\n",
              "    <tr>\n",
              "      <th>4</th>\n",
              "      <td>32</td>\n",
              "      <td>male</td>\n",
              "      <td>28.880</td>\n",
              "      <td>0</td>\n",
              "      <td>no</td>\n",
              "      <td>northwest</td>\n",
              "      <td>3866.85520</td>\n",
              "    </tr>\n",
              "  </tbody>\n",
              "</table>\n",
              "</div>\n",
              "    <div class=\"colab-df-buttons\">\n",
              "\n",
              "  <div class=\"colab-df-container\">\n",
              "    <button class=\"colab-df-convert\" onclick=\"convertToInteractive('df-78b9d7e8-e715-4eae-952e-5c86d218b967')\"\n",
              "            title=\"Convert this dataframe to an interactive table.\"\n",
              "            style=\"display:none;\">\n",
              "\n",
              "  <svg xmlns=\"http://www.w3.org/2000/svg\" height=\"24px\" viewBox=\"0 -960 960 960\">\n",
              "    <path d=\"M120-120v-720h720v720H120Zm60-500h600v-160H180v160Zm220 220h160v-160H400v160Zm0 220h160v-160H400v160ZM180-400h160v-160H180v160Zm440 0h160v-160H620v160ZM180-180h160v-160H180v160Zm440 0h160v-160H620v160Z\"/>\n",
              "  </svg>\n",
              "    </button>\n",
              "\n",
              "  <style>\n",
              "    .colab-df-container {\n",
              "      display:flex;\n",
              "      gap: 12px;\n",
              "    }\n",
              "\n",
              "    .colab-df-convert {\n",
              "      background-color: #E8F0FE;\n",
              "      border: none;\n",
              "      border-radius: 50%;\n",
              "      cursor: pointer;\n",
              "      display: none;\n",
              "      fill: #1967D2;\n",
              "      height: 32px;\n",
              "      padding: 0 0 0 0;\n",
              "      width: 32px;\n",
              "    }\n",
              "\n",
              "    .colab-df-convert:hover {\n",
              "      background-color: #E2EBFA;\n",
              "      box-shadow: 0px 1px 2px rgba(60, 64, 67, 0.3), 0px 1px 3px 1px rgba(60, 64, 67, 0.15);\n",
              "      fill: #174EA6;\n",
              "    }\n",
              "\n",
              "    .colab-df-buttons div {\n",
              "      margin-bottom: 4px;\n",
              "    }\n",
              "\n",
              "    [theme=dark] .colab-df-convert {\n",
              "      background-color: #3B4455;\n",
              "      fill: #D2E3FC;\n",
              "    }\n",
              "\n",
              "    [theme=dark] .colab-df-convert:hover {\n",
              "      background-color: #434B5C;\n",
              "      box-shadow: 0px 1px 3px 1px rgba(0, 0, 0, 0.15);\n",
              "      filter: drop-shadow(0px 1px 2px rgba(0, 0, 0, 0.3));\n",
              "      fill: #FFFFFF;\n",
              "    }\n",
              "  </style>\n",
              "\n",
              "    <script>\n",
              "      const buttonEl =\n",
              "        document.querySelector('#df-78b9d7e8-e715-4eae-952e-5c86d218b967 button.colab-df-convert');\n",
              "      buttonEl.style.display =\n",
              "        google.colab.kernel.accessAllowed ? 'block' : 'none';\n",
              "\n",
              "      async function convertToInteractive(key) {\n",
              "        const element = document.querySelector('#df-78b9d7e8-e715-4eae-952e-5c86d218b967');\n",
              "        const dataTable =\n",
              "          await google.colab.kernel.invokeFunction('convertToInteractive',\n",
              "                                                    [key], {});\n",
              "        if (!dataTable) return;\n",
              "\n",
              "        const docLinkHtml = 'Like what you see? Visit the ' +\n",
              "          '<a target=\"_blank\" href=https://colab.research.google.com/notebooks/data_table.ipynb>data table notebook</a>'\n",
              "          + ' to learn more about interactive tables.';\n",
              "        element.innerHTML = '';\n",
              "        dataTable['output_type'] = 'display_data';\n",
              "        await google.colab.output.renderOutput(dataTable, element);\n",
              "        const docLink = document.createElement('div');\n",
              "        docLink.innerHTML = docLinkHtml;\n",
              "        element.appendChild(docLink);\n",
              "      }\n",
              "    </script>\n",
              "  </div>\n",
              "\n",
              "\n",
              "<div id=\"df-65bc5a2d-96e2-412c-ac27-d9cca0f902fd\">\n",
              "  <button class=\"colab-df-quickchart\" onclick=\"quickchart('df-65bc5a2d-96e2-412c-ac27-d9cca0f902fd')\"\n",
              "            title=\"Suggest charts.\"\n",
              "            style=\"display:none;\">\n",
              "\n",
              "<svg xmlns=\"http://www.w3.org/2000/svg\" height=\"24px\"viewBox=\"0 0 24 24\"\n",
              "     width=\"24px\">\n",
              "    <g>\n",
              "        <path d=\"M19 3H5c-1.1 0-2 .9-2 2v14c0 1.1.9 2 2 2h14c1.1 0 2-.9 2-2V5c0-1.1-.9-2-2-2zM9 17H7v-7h2v7zm4 0h-2V7h2v10zm4 0h-2v-4h2v4z\"/>\n",
              "    </g>\n",
              "</svg>\n",
              "  </button>\n",
              "\n",
              "<style>\n",
              "  .colab-df-quickchart {\n",
              "      --bg-color: #E8F0FE;\n",
              "      --fill-color: #1967D2;\n",
              "      --hover-bg-color: #E2EBFA;\n",
              "      --hover-fill-color: #174EA6;\n",
              "      --disabled-fill-color: #AAA;\n",
              "      --disabled-bg-color: #DDD;\n",
              "  }\n",
              "\n",
              "  [theme=dark] .colab-df-quickchart {\n",
              "      --bg-color: #3B4455;\n",
              "      --fill-color: #D2E3FC;\n",
              "      --hover-bg-color: #434B5C;\n",
              "      --hover-fill-color: #FFFFFF;\n",
              "      --disabled-bg-color: #3B4455;\n",
              "      --disabled-fill-color: #666;\n",
              "  }\n",
              "\n",
              "  .colab-df-quickchart {\n",
              "    background-color: var(--bg-color);\n",
              "    border: none;\n",
              "    border-radius: 50%;\n",
              "    cursor: pointer;\n",
              "    display: none;\n",
              "    fill: var(--fill-color);\n",
              "    height: 32px;\n",
              "    padding: 0;\n",
              "    width: 32px;\n",
              "  }\n",
              "\n",
              "  .colab-df-quickchart:hover {\n",
              "    background-color: var(--hover-bg-color);\n",
              "    box-shadow: 0 1px 2px rgba(60, 64, 67, 0.3), 0 1px 3px 1px rgba(60, 64, 67, 0.15);\n",
              "    fill: var(--button-hover-fill-color);\n",
              "  }\n",
              "\n",
              "  .colab-df-quickchart-complete:disabled,\n",
              "  .colab-df-quickchart-complete:disabled:hover {\n",
              "    background-color: var(--disabled-bg-color);\n",
              "    fill: var(--disabled-fill-color);\n",
              "    box-shadow: none;\n",
              "  }\n",
              "\n",
              "  .colab-df-spinner {\n",
              "    border: 2px solid var(--fill-color);\n",
              "    border-color: transparent;\n",
              "    border-bottom-color: var(--fill-color);\n",
              "    animation:\n",
              "      spin 1s steps(1) infinite;\n",
              "  }\n",
              "\n",
              "  @keyframes spin {\n",
              "    0% {\n",
              "      border-color: transparent;\n",
              "      border-bottom-color: var(--fill-color);\n",
              "      border-left-color: var(--fill-color);\n",
              "    }\n",
              "    20% {\n",
              "      border-color: transparent;\n",
              "      border-left-color: var(--fill-color);\n",
              "      border-top-color: var(--fill-color);\n",
              "    }\n",
              "    30% {\n",
              "      border-color: transparent;\n",
              "      border-left-color: var(--fill-color);\n",
              "      border-top-color: var(--fill-color);\n",
              "      border-right-color: var(--fill-color);\n",
              "    }\n",
              "    40% {\n",
              "      border-color: transparent;\n",
              "      border-right-color: var(--fill-color);\n",
              "      border-top-color: var(--fill-color);\n",
              "    }\n",
              "    60% {\n",
              "      border-color: transparent;\n",
              "      border-right-color: var(--fill-color);\n",
              "    }\n",
              "    80% {\n",
              "      border-color: transparent;\n",
              "      border-right-color: var(--fill-color);\n",
              "      border-bottom-color: var(--fill-color);\n",
              "    }\n",
              "    90% {\n",
              "      border-color: transparent;\n",
              "      border-bottom-color: var(--fill-color);\n",
              "    }\n",
              "  }\n",
              "</style>\n",
              "\n",
              "  <script>\n",
              "    async function quickchart(key) {\n",
              "      const quickchartButtonEl =\n",
              "        document.querySelector('#' + key + ' button');\n",
              "      quickchartButtonEl.disabled = true;  // To prevent multiple clicks.\n",
              "      quickchartButtonEl.classList.add('colab-df-spinner');\n",
              "      try {\n",
              "        const charts = await google.colab.kernel.invokeFunction(\n",
              "            'suggestCharts', [key], {});\n",
              "      } catch (error) {\n",
              "        console.error('Error during call to suggestCharts:', error);\n",
              "      }\n",
              "      quickchartButtonEl.classList.remove('colab-df-spinner');\n",
              "      quickchartButtonEl.classList.add('colab-df-quickchart-complete');\n",
              "    }\n",
              "    (() => {\n",
              "      let quickchartButtonEl =\n",
              "        document.querySelector('#df-65bc5a2d-96e2-412c-ac27-d9cca0f902fd button');\n",
              "      quickchartButtonEl.style.display =\n",
              "        google.colab.kernel.accessAllowed ? 'block' : 'none';\n",
              "    })();\n",
              "  </script>\n",
              "</div>\n",
              "    </div>\n",
              "  </div>\n"
            ]
          },
          "metadata": {},
          "execution_count": 4
        }
      ]
    },
    {
      "cell_type": "code",
      "source": [
        "df.info()"
      ],
      "metadata": {
        "colab": {
          "base_uri": "https://localhost:8080/"
        },
        "id": "_ekJyiuQUifj",
        "outputId": "1a815ca2-f2c3-4977-94aa-3d3ed25bdb08"
      },
      "execution_count": 5,
      "outputs": [
        {
          "output_type": "stream",
          "name": "stdout",
          "text": [
            "<class 'pandas.core.frame.DataFrame'>\n",
            "RangeIndex: 1338 entries, 0 to 1337\n",
            "Data columns (total 7 columns):\n",
            " #   Column    Non-Null Count  Dtype  \n",
            "---  ------    --------------  -----  \n",
            " 0   age       1338 non-null   int64  \n",
            " 1   sex       1338 non-null   object \n",
            " 2   bmi       1338 non-null   float64\n",
            " 3   children  1338 non-null   int64  \n",
            " 4   smoker    1338 non-null   object \n",
            " 5   region    1338 non-null   object \n",
            " 6   charges   1338 non-null   float64\n",
            "dtypes: float64(2), int64(2), object(3)\n",
            "memory usage: 73.3+ KB\n"
          ]
        }
      ]
    },
    {
      "cell_type": "markdown",
      "source": [
        "* There is no missing data.\n",
        "* There are seven columns.\n",
        "* Some columns are numerical while some are categorical."
      ],
      "metadata": {
        "id": "v9VtK7nxWWjA"
      }
    },
    {
      "cell_type": "markdown",
      "source": [
        "## Exploratory Data Analysis (EDA)"
      ],
      "metadata": {
        "id": "74L9_B94v0TM"
      }
    },
    {
      "cell_type": "code",
      "source": [
        "# Find out the average age of the patients\n",
        "average_age = df['age'].mean()\n",
        "print(f\"Average Age of Patients: {average_age}\")"
      ],
      "metadata": {
        "colab": {
          "base_uri": "https://localhost:8080/"
        },
        "id": "4IXQS-52U0vW",
        "outputId": "f6418000-7ccf-484f-e781-f078bd03494b"
      },
      "execution_count": 6,
      "outputs": [
        {
          "output_type": "stream",
          "name": "stdout",
          "text": [
            "Average Age of Patients: 39.20702541106129\n"
          ]
        }
      ]
    },
    {
      "cell_type": "code",
      "source": [
        "# Analyze where a majority of the individuals are from\n",
        "majority_region = df['region'].value_counts().idxmax()\n",
        "print(f\"Majority Region: {majority_region}\")"
      ],
      "metadata": {
        "colab": {
          "base_uri": "https://localhost:8080/"
        },
        "id": "mAFjLLIXU2e9",
        "outputId": "92bc6a60-0140-4937-a2f9-4f1cbff590c1"
      },
      "execution_count": 7,
      "outputs": [
        {
          "output_type": "stream",
          "name": "stdout",
          "text": [
            "Majority Region: southeast\n"
          ]
        }
      ]
    },
    {
      "cell_type": "code",
      "source": [
        "# Look at the different costs between smokers vs. non-smokers\n",
        "average_cost_smokers = df[df['smoker'] == 'yes']['charges'].mean()\n",
        "average_cost_non_smokers = df[df['smoker'] == 'no']['charges'].mean()\n",
        "print(f\"Average Charges for Smokers: {average_cost_smokers}\")\n",
        "print(f\"Average Charges for Non-Smokers: {average_cost_non_smokers}\")"
      ],
      "metadata": {
        "colab": {
          "base_uri": "https://localhost:8080/"
        },
        "id": "z7jd9S_FU5r7",
        "outputId": "aba1f86f-14bd-4867-f65e-ee0e30d91230"
      },
      "execution_count": 8,
      "outputs": [
        {
          "output_type": "stream",
          "name": "stdout",
          "text": [
            "Average Charges for Smokers: 32050.23183153284\n",
            "Average Charges for Non-Smokers: 8434.268297856204\n"
          ]
        }
      ]
    },
    {
      "cell_type": "code",
      "source": [
        "# Figure out what the average age is for someone who has at least one child\n",
        "average_age_with_children = df[df['children'] > 0]['age'].mean()\n",
        "print(f\"Average Age for Individuals with at Least One Child: {average_age_with_children}\")"
      ],
      "metadata": {
        "colab": {
          "base_uri": "https://localhost:8080/"
        },
        "id": "UVRGI3HEVFwv",
        "outputId": "87812a4f-449c-4581-d98c-e167b33fbe20"
      },
      "execution_count": 9,
      "outputs": [
        {
          "output_type": "stream",
          "name": "stdout",
          "text": [
            "Average Age for Individuals with at Least One Child: 39.78010471204188\n"
          ]
        }
      ]
    },
    {
      "cell_type": "markdown",
      "source": [
        "## Model Training"
      ],
      "metadata": {
        "id": "0IG86Qghw3ZV"
      }
    },
    {
      "cell_type": "code",
      "source": [
        "s = setup(df, target='charges')"
      ],
      "metadata": {
        "colab": {
          "base_uri": "https://localhost:8080/",
          "height": 770
        },
        "id": "0ma2mQ9difxt",
        "outputId": "5040bb32-b66d-4d20-d173-ef35e9b1e0bd"
      },
      "execution_count": 10,
      "outputs": [
        {
          "output_type": "display_data",
          "data": {
            "text/plain": [
              "<pandas.io.formats.style.Styler at 0x7adbad1efa00>"
            ],
            "text/html": [
              "<style type=\"text/css\">\n",
              "#T_2a16b_row10_col1 {\n",
              "  background-color: lightgreen;\n",
              "}\n",
              "</style>\n",
              "<table id=\"T_2a16b\" class=\"dataframe\">\n",
              "  <thead>\n",
              "    <tr>\n",
              "      <th class=\"blank level0\" >&nbsp;</th>\n",
              "      <th id=\"T_2a16b_level0_col0\" class=\"col_heading level0 col0\" >Description</th>\n",
              "      <th id=\"T_2a16b_level0_col1\" class=\"col_heading level0 col1\" >Value</th>\n",
              "    </tr>\n",
              "  </thead>\n",
              "  <tbody>\n",
              "    <tr>\n",
              "      <th id=\"T_2a16b_level0_row0\" class=\"row_heading level0 row0\" >0</th>\n",
              "      <td id=\"T_2a16b_row0_col0\" class=\"data row0 col0\" >Session id</td>\n",
              "      <td id=\"T_2a16b_row0_col1\" class=\"data row0 col1\" >7841</td>\n",
              "    </tr>\n",
              "    <tr>\n",
              "      <th id=\"T_2a16b_level0_row1\" class=\"row_heading level0 row1\" >1</th>\n",
              "      <td id=\"T_2a16b_row1_col0\" class=\"data row1 col0\" >Target</td>\n",
              "      <td id=\"T_2a16b_row1_col1\" class=\"data row1 col1\" >charges</td>\n",
              "    </tr>\n",
              "    <tr>\n",
              "      <th id=\"T_2a16b_level0_row2\" class=\"row_heading level0 row2\" >2</th>\n",
              "      <td id=\"T_2a16b_row2_col0\" class=\"data row2 col0\" >Target type</td>\n",
              "      <td id=\"T_2a16b_row2_col1\" class=\"data row2 col1\" >Regression</td>\n",
              "    </tr>\n",
              "    <tr>\n",
              "      <th id=\"T_2a16b_level0_row3\" class=\"row_heading level0 row3\" >3</th>\n",
              "      <td id=\"T_2a16b_row3_col0\" class=\"data row3 col0\" >Original data shape</td>\n",
              "      <td id=\"T_2a16b_row3_col1\" class=\"data row3 col1\" >(1338, 7)</td>\n",
              "    </tr>\n",
              "    <tr>\n",
              "      <th id=\"T_2a16b_level0_row4\" class=\"row_heading level0 row4\" >4</th>\n",
              "      <td id=\"T_2a16b_row4_col0\" class=\"data row4 col0\" >Transformed data shape</td>\n",
              "      <td id=\"T_2a16b_row4_col1\" class=\"data row4 col1\" >(1338, 10)</td>\n",
              "    </tr>\n",
              "    <tr>\n",
              "      <th id=\"T_2a16b_level0_row5\" class=\"row_heading level0 row5\" >5</th>\n",
              "      <td id=\"T_2a16b_row5_col0\" class=\"data row5 col0\" >Transformed train set shape</td>\n",
              "      <td id=\"T_2a16b_row5_col1\" class=\"data row5 col1\" >(936, 10)</td>\n",
              "    </tr>\n",
              "    <tr>\n",
              "      <th id=\"T_2a16b_level0_row6\" class=\"row_heading level0 row6\" >6</th>\n",
              "      <td id=\"T_2a16b_row6_col0\" class=\"data row6 col0\" >Transformed test set shape</td>\n",
              "      <td id=\"T_2a16b_row6_col1\" class=\"data row6 col1\" >(402, 10)</td>\n",
              "    </tr>\n",
              "    <tr>\n",
              "      <th id=\"T_2a16b_level0_row7\" class=\"row_heading level0 row7\" >7</th>\n",
              "      <td id=\"T_2a16b_row7_col0\" class=\"data row7 col0\" >Ordinal features</td>\n",
              "      <td id=\"T_2a16b_row7_col1\" class=\"data row7 col1\" >2</td>\n",
              "    </tr>\n",
              "    <tr>\n",
              "      <th id=\"T_2a16b_level0_row8\" class=\"row_heading level0 row8\" >8</th>\n",
              "      <td id=\"T_2a16b_row8_col0\" class=\"data row8 col0\" >Numeric features</td>\n",
              "      <td id=\"T_2a16b_row8_col1\" class=\"data row8 col1\" >3</td>\n",
              "    </tr>\n",
              "    <tr>\n",
              "      <th id=\"T_2a16b_level0_row9\" class=\"row_heading level0 row9\" >9</th>\n",
              "      <td id=\"T_2a16b_row9_col0\" class=\"data row9 col0\" >Categorical features</td>\n",
              "      <td id=\"T_2a16b_row9_col1\" class=\"data row9 col1\" >3</td>\n",
              "    </tr>\n",
              "    <tr>\n",
              "      <th id=\"T_2a16b_level0_row10\" class=\"row_heading level0 row10\" >10</th>\n",
              "      <td id=\"T_2a16b_row10_col0\" class=\"data row10 col0\" >Preprocess</td>\n",
              "      <td id=\"T_2a16b_row10_col1\" class=\"data row10 col1\" >True</td>\n",
              "    </tr>\n",
              "    <tr>\n",
              "      <th id=\"T_2a16b_level0_row11\" class=\"row_heading level0 row11\" >11</th>\n",
              "      <td id=\"T_2a16b_row11_col0\" class=\"data row11 col0\" >Imputation type</td>\n",
              "      <td id=\"T_2a16b_row11_col1\" class=\"data row11 col1\" >simple</td>\n",
              "    </tr>\n",
              "    <tr>\n",
              "      <th id=\"T_2a16b_level0_row12\" class=\"row_heading level0 row12\" >12</th>\n",
              "      <td id=\"T_2a16b_row12_col0\" class=\"data row12 col0\" >Numeric imputation</td>\n",
              "      <td id=\"T_2a16b_row12_col1\" class=\"data row12 col1\" >mean</td>\n",
              "    </tr>\n",
              "    <tr>\n",
              "      <th id=\"T_2a16b_level0_row13\" class=\"row_heading level0 row13\" >13</th>\n",
              "      <td id=\"T_2a16b_row13_col0\" class=\"data row13 col0\" >Categorical imputation</td>\n",
              "      <td id=\"T_2a16b_row13_col1\" class=\"data row13 col1\" >mode</td>\n",
              "    </tr>\n",
              "    <tr>\n",
              "      <th id=\"T_2a16b_level0_row14\" class=\"row_heading level0 row14\" >14</th>\n",
              "      <td id=\"T_2a16b_row14_col0\" class=\"data row14 col0\" >Maximum one-hot encoding</td>\n",
              "      <td id=\"T_2a16b_row14_col1\" class=\"data row14 col1\" >25</td>\n",
              "    </tr>\n",
              "    <tr>\n",
              "      <th id=\"T_2a16b_level0_row15\" class=\"row_heading level0 row15\" >15</th>\n",
              "      <td id=\"T_2a16b_row15_col0\" class=\"data row15 col0\" >Encoding method</td>\n",
              "      <td id=\"T_2a16b_row15_col1\" class=\"data row15 col1\" >None</td>\n",
              "    </tr>\n",
              "    <tr>\n",
              "      <th id=\"T_2a16b_level0_row16\" class=\"row_heading level0 row16\" >16</th>\n",
              "      <td id=\"T_2a16b_row16_col0\" class=\"data row16 col0\" >Fold Generator</td>\n",
              "      <td id=\"T_2a16b_row16_col1\" class=\"data row16 col1\" >KFold</td>\n",
              "    </tr>\n",
              "    <tr>\n",
              "      <th id=\"T_2a16b_level0_row17\" class=\"row_heading level0 row17\" >17</th>\n",
              "      <td id=\"T_2a16b_row17_col0\" class=\"data row17 col0\" >Fold Number</td>\n",
              "      <td id=\"T_2a16b_row17_col1\" class=\"data row17 col1\" >10</td>\n",
              "    </tr>\n",
              "    <tr>\n",
              "      <th id=\"T_2a16b_level0_row18\" class=\"row_heading level0 row18\" >18</th>\n",
              "      <td id=\"T_2a16b_row18_col0\" class=\"data row18 col0\" >CPU Jobs</td>\n",
              "      <td id=\"T_2a16b_row18_col1\" class=\"data row18 col1\" >-1</td>\n",
              "    </tr>\n",
              "    <tr>\n",
              "      <th id=\"T_2a16b_level0_row19\" class=\"row_heading level0 row19\" >19</th>\n",
              "      <td id=\"T_2a16b_row19_col0\" class=\"data row19 col0\" >Use GPU</td>\n",
              "      <td id=\"T_2a16b_row19_col1\" class=\"data row19 col1\" >False</td>\n",
              "    </tr>\n",
              "    <tr>\n",
              "      <th id=\"T_2a16b_level0_row20\" class=\"row_heading level0 row20\" >20</th>\n",
              "      <td id=\"T_2a16b_row20_col0\" class=\"data row20 col0\" >Log Experiment</td>\n",
              "      <td id=\"T_2a16b_row20_col1\" class=\"data row20 col1\" >False</td>\n",
              "    </tr>\n",
              "    <tr>\n",
              "      <th id=\"T_2a16b_level0_row21\" class=\"row_heading level0 row21\" >21</th>\n",
              "      <td id=\"T_2a16b_row21_col0\" class=\"data row21 col0\" >Experiment Name</td>\n",
              "      <td id=\"T_2a16b_row21_col1\" class=\"data row21 col1\" >reg-default-name</td>\n",
              "    </tr>\n",
              "    <tr>\n",
              "      <th id=\"T_2a16b_level0_row22\" class=\"row_heading level0 row22\" >22</th>\n",
              "      <td id=\"T_2a16b_row22_col0\" class=\"data row22 col0\" >USI</td>\n",
              "      <td id=\"T_2a16b_row22_col1\" class=\"data row22 col1\" >a39e</td>\n",
              "    </tr>\n",
              "  </tbody>\n",
              "</table>\n"
            ]
          },
          "metadata": {}
        }
      ]
    },
    {
      "cell_type": "code",
      "source": [
        "best_model = compare_models()"
      ],
      "metadata": {
        "colab": {
          "base_uri": "https://localhost:8080/",
          "height": 645,
          "referenced_widgets": [
            "5958c3dff00b438abd0f67cdc9501b16",
            "15ac4ca8d0e944b4a9f456b8e92582ac",
            "88ad04f49221483cab604a8d38ee2871",
            "12aa7c190f8c4d0cabfa66c4810fce94",
            "720260a81b13489baca0f14244941d0a",
            "e513e79296d64842ac337d75458f3429",
            "508f14b8e43c4ee0b8d7a1e7cd0a5b9a",
            "2548a8a0c86b4d2b94bdefe236b99962",
            "0cdbe439b61849c39d1fdea955d69eed",
            "38f24a824810412ebdd5acb6459b67a2",
            "bdcf1b85e63643b29ec200c705445404"
          ]
        },
        "id": "TuohgcGwi8XL",
        "outputId": "95dabc63-82d1-4727-bfd9-47d6b28dca55"
      },
      "execution_count": 11,
      "outputs": [
        {
          "output_type": "display_data",
          "data": {
            "text/plain": [
              "<IPython.core.display.HTML object>"
            ],
            "text/html": []
          },
          "metadata": {}
        },
        {
          "output_type": "display_data",
          "data": {
            "text/plain": [
              "<pandas.io.formats.style.Styler at 0x7adbad3a8100>"
            ],
            "text/html": [
              "<style type=\"text/css\">\n",
              "#T_56c23 th {\n",
              "  text-align: left;\n",
              "}\n",
              "#T_56c23_row0_col0, #T_56c23_row0_col6, #T_56c23_row1_col0, #T_56c23_row1_col1, #T_56c23_row1_col2, #T_56c23_row1_col3, #T_56c23_row1_col4, #T_56c23_row1_col5, #T_56c23_row1_col6, #T_56c23_row2_col0, #T_56c23_row2_col1, #T_56c23_row2_col2, #T_56c23_row2_col3, #T_56c23_row2_col4, #T_56c23_row2_col5, #T_56c23_row2_col6, #T_56c23_row3_col0, #T_56c23_row3_col1, #T_56c23_row3_col2, #T_56c23_row3_col3, #T_56c23_row3_col4, #T_56c23_row3_col5, #T_56c23_row3_col6, #T_56c23_row4_col0, #T_56c23_row4_col1, #T_56c23_row4_col2, #T_56c23_row4_col3, #T_56c23_row4_col4, #T_56c23_row4_col5, #T_56c23_row4_col6, #T_56c23_row5_col0, #T_56c23_row5_col1, #T_56c23_row5_col2, #T_56c23_row5_col3, #T_56c23_row5_col4, #T_56c23_row5_col5, #T_56c23_row5_col6, #T_56c23_row6_col0, #T_56c23_row6_col1, #T_56c23_row6_col2, #T_56c23_row6_col3, #T_56c23_row6_col4, #T_56c23_row6_col5, #T_56c23_row6_col6, #T_56c23_row7_col0, #T_56c23_row7_col1, #T_56c23_row7_col2, #T_56c23_row7_col3, #T_56c23_row7_col4, #T_56c23_row7_col5, #T_56c23_row7_col6, #T_56c23_row8_col0, #T_56c23_row8_col1, #T_56c23_row8_col2, #T_56c23_row8_col3, #T_56c23_row8_col4, #T_56c23_row8_col5, #T_56c23_row8_col6, #T_56c23_row9_col0, #T_56c23_row9_col1, #T_56c23_row9_col2, #T_56c23_row9_col3, #T_56c23_row9_col4, #T_56c23_row9_col5, #T_56c23_row9_col6, #T_56c23_row10_col0, #T_56c23_row10_col1, #T_56c23_row10_col2, #T_56c23_row10_col3, #T_56c23_row10_col4, #T_56c23_row10_col5, #T_56c23_row10_col6, #T_56c23_row11_col0, #T_56c23_row11_col1, #T_56c23_row11_col2, #T_56c23_row11_col3, #T_56c23_row11_col4, #T_56c23_row11_col5, #T_56c23_row11_col6, #T_56c23_row12_col0, #T_56c23_row12_col1, #T_56c23_row12_col2, #T_56c23_row12_col3, #T_56c23_row12_col4, #T_56c23_row12_col5, #T_56c23_row12_col6, #T_56c23_row13_col0, #T_56c23_row13_col1, #T_56c23_row13_col2, #T_56c23_row13_col3, #T_56c23_row13_col4, #T_56c23_row13_col5, #T_56c23_row14_col0, #T_56c23_row14_col1, #T_56c23_row14_col2, #T_56c23_row14_col3, #T_56c23_row14_col4, #T_56c23_row14_col5, #T_56c23_row14_col6, #T_56c23_row15_col0, #T_56c23_row15_col1, #T_56c23_row15_col2, #T_56c23_row15_col3, #T_56c23_row15_col4, #T_56c23_row15_col5, #T_56c23_row15_col6, #T_56c23_row16_col0, #T_56c23_row16_col1, #T_56c23_row16_col2, #T_56c23_row16_col3, #T_56c23_row16_col4, #T_56c23_row16_col5, #T_56c23_row16_col6, #T_56c23_row17_col0, #T_56c23_row17_col1, #T_56c23_row17_col2, #T_56c23_row17_col3, #T_56c23_row17_col4, #T_56c23_row17_col5, #T_56c23_row17_col6, #T_56c23_row18_col0, #T_56c23_row18_col1, #T_56c23_row18_col2, #T_56c23_row18_col3, #T_56c23_row18_col4, #T_56c23_row18_col5, #T_56c23_row18_col6 {\n",
              "  text-align: left;\n",
              "}\n",
              "#T_56c23_row0_col1, #T_56c23_row0_col2, #T_56c23_row0_col3, #T_56c23_row0_col4, #T_56c23_row0_col5, #T_56c23_row13_col6 {\n",
              "  text-align: left;\n",
              "  background-color: yellow;\n",
              "}\n",
              "#T_56c23_row0_col7, #T_56c23_row1_col7, #T_56c23_row2_col7, #T_56c23_row3_col7, #T_56c23_row4_col7, #T_56c23_row5_col7, #T_56c23_row6_col7, #T_56c23_row7_col7, #T_56c23_row8_col7, #T_56c23_row9_col7, #T_56c23_row10_col7, #T_56c23_row11_col7, #T_56c23_row12_col7, #T_56c23_row13_col7, #T_56c23_row14_col7, #T_56c23_row15_col7, #T_56c23_row16_col7, #T_56c23_row17_col7 {\n",
              "  text-align: left;\n",
              "  background-color: lightgrey;\n",
              "}\n",
              "#T_56c23_row18_col7 {\n",
              "  text-align: left;\n",
              "  background-color: yellow;\n",
              "  background-color: lightgrey;\n",
              "}\n",
              "</style>\n",
              "<table id=\"T_56c23\" class=\"dataframe\">\n",
              "  <thead>\n",
              "    <tr>\n",
              "      <th class=\"blank level0\" >&nbsp;</th>\n",
              "      <th id=\"T_56c23_level0_col0\" class=\"col_heading level0 col0\" >Model</th>\n",
              "      <th id=\"T_56c23_level0_col1\" class=\"col_heading level0 col1\" >MAE</th>\n",
              "      <th id=\"T_56c23_level0_col2\" class=\"col_heading level0 col2\" >MSE</th>\n",
              "      <th id=\"T_56c23_level0_col3\" class=\"col_heading level0 col3\" >RMSE</th>\n",
              "      <th id=\"T_56c23_level0_col4\" class=\"col_heading level0 col4\" >R2</th>\n",
              "      <th id=\"T_56c23_level0_col5\" class=\"col_heading level0 col5\" >RMSLE</th>\n",
              "      <th id=\"T_56c23_level0_col6\" class=\"col_heading level0 col6\" >MAPE</th>\n",
              "      <th id=\"T_56c23_level0_col7\" class=\"col_heading level0 col7\" >TT (Sec)</th>\n",
              "    </tr>\n",
              "  </thead>\n",
              "  <tbody>\n",
              "    <tr>\n",
              "      <th id=\"T_56c23_level0_row0\" class=\"row_heading level0 row0\" >gbr</th>\n",
              "      <td id=\"T_56c23_row0_col0\" class=\"data row0 col0\" >Gradient Boosting Regressor</td>\n",
              "      <td id=\"T_56c23_row0_col1\" class=\"data row0 col1\" >2729.6166</td>\n",
              "      <td id=\"T_56c23_row0_col2\" class=\"data row0 col2\" >23312793.1866</td>\n",
              "      <td id=\"T_56c23_row0_col3\" class=\"data row0 col3\" >4809.6811</td>\n",
              "      <td id=\"T_56c23_row0_col4\" class=\"data row0 col4\" >0.8326</td>\n",
              "      <td id=\"T_56c23_row0_col5\" class=\"data row0 col5\" >0.4352</td>\n",
              "      <td id=\"T_56c23_row0_col6\" class=\"data row0 col6\" >0.3050</td>\n",
              "      <td id=\"T_56c23_row0_col7\" class=\"data row0 col7\" >0.3130</td>\n",
              "    </tr>\n",
              "    <tr>\n",
              "      <th id=\"T_56c23_level0_row1\" class=\"row_heading level0 row1\" >rf</th>\n",
              "      <td id=\"T_56c23_row1_col0\" class=\"data row1 col0\" >Random Forest Regressor</td>\n",
              "      <td id=\"T_56c23_row1_col1\" class=\"data row1 col1\" >2874.9143</td>\n",
              "      <td id=\"T_56c23_row1_col2\" class=\"data row1 col2\" >25486795.6559</td>\n",
              "      <td id=\"T_56c23_row1_col3\" class=\"data row1 col3\" >5032.6251</td>\n",
              "      <td id=\"T_56c23_row1_col4\" class=\"data row1 col4\" >0.8172</td>\n",
              "      <td id=\"T_56c23_row1_col5\" class=\"data row1 col5\" >0.4699</td>\n",
              "      <td id=\"T_56c23_row1_col6\" class=\"data row1 col6\" >0.3349</td>\n",
              "      <td id=\"T_56c23_row1_col7\" class=\"data row1 col7\" >0.3550</td>\n",
              "    </tr>\n",
              "    <tr>\n",
              "      <th id=\"T_56c23_level0_row2\" class=\"row_heading level0 row2\" >lightgbm</th>\n",
              "      <td id=\"T_56c23_row2_col0\" class=\"data row2 col0\" >Light Gradient Boosting Machine</td>\n",
              "      <td id=\"T_56c23_row2_col1\" class=\"data row2 col1\" >3039.0291</td>\n",
              "      <td id=\"T_56c23_row2_col2\" class=\"data row2 col2\" >25957253.9627</td>\n",
              "      <td id=\"T_56c23_row2_col3\" class=\"data row2 col3\" >5079.5674</td>\n",
              "      <td id=\"T_56c23_row2_col4\" class=\"data row2 col4\" >0.8142</td>\n",
              "      <td id=\"T_56c23_row2_col5\" class=\"data row2 col5\" >0.5236</td>\n",
              "      <td id=\"T_56c23_row2_col6\" class=\"data row2 col6\" >0.3611</td>\n",
              "      <td id=\"T_56c23_row2_col7\" class=\"data row2 col7\" >0.3600</td>\n",
              "    </tr>\n",
              "    <tr>\n",
              "      <th id=\"T_56c23_level0_row3\" class=\"row_heading level0 row3\" >ada</th>\n",
              "      <td id=\"T_56c23_row3_col0\" class=\"data row3 col0\" >AdaBoost Regressor</td>\n",
              "      <td id=\"T_56c23_row3_col1\" class=\"data row3 col1\" >4101.2116</td>\n",
              "      <td id=\"T_56c23_row3_col2\" class=\"data row3 col2\" >28197360.0147</td>\n",
              "      <td id=\"T_56c23_row3_col3\" class=\"data row3 col3\" >5288.6464</td>\n",
              "      <td id=\"T_56c23_row3_col4\" class=\"data row3 col4\" >0.7975</td>\n",
              "      <td id=\"T_56c23_row3_col5\" class=\"data row3 col5\" >0.5789</td>\n",
              "      <td id=\"T_56c23_row3_col6\" class=\"data row3 col6\" >0.6292</td>\n",
              "      <td id=\"T_56c23_row3_col7\" class=\"data row3 col7\" >0.1460</td>\n",
              "    </tr>\n",
              "    <tr>\n",
              "      <th id=\"T_56c23_level0_row4\" class=\"row_heading level0 row4\" >et</th>\n",
              "      <td id=\"T_56c23_row4_col0\" class=\"data row4 col0\" >Extra Trees Regressor</td>\n",
              "      <td id=\"T_56c23_row4_col1\" class=\"data row4 col1\" >2932.9901</td>\n",
              "      <td id=\"T_56c23_row4_col2\" class=\"data row4 col2\" >29162903.5004</td>\n",
              "      <td id=\"T_56c23_row4_col3\" class=\"data row4 col3\" >5383.2165</td>\n",
              "      <td id=\"T_56c23_row4_col4\" class=\"data row4 col4\" >0.7913</td>\n",
              "      <td id=\"T_56c23_row4_col5\" class=\"data row4 col5\" >0.4788</td>\n",
              "      <td id=\"T_56c23_row4_col6\" class=\"data row4 col6\" >0.3244</td>\n",
              "      <td id=\"T_56c23_row4_col7\" class=\"data row4 col7\" >0.2960</td>\n",
              "    </tr>\n",
              "    <tr>\n",
              "      <th id=\"T_56c23_level0_row5\" class=\"row_heading level0 row5\" >xgboost</th>\n",
              "      <td id=\"T_56c23_row5_col0\" class=\"data row5 col0\" >Extreme Gradient Boosting</td>\n",
              "      <td id=\"T_56c23_row5_col1\" class=\"data row5 col1\" >3244.6627</td>\n",
              "      <td id=\"T_56c23_row5_col2\" class=\"data row5 col2\" >29861322.0000</td>\n",
              "      <td id=\"T_56c23_row5_col3\" class=\"data row5 col3\" >5444.2268</td>\n",
              "      <td id=\"T_56c23_row5_col4\" class=\"data row5 col4\" >0.7855</td>\n",
              "      <td id=\"T_56c23_row5_col5\" class=\"data row5 col5\" >0.5759</td>\n",
              "      <td id=\"T_56c23_row5_col6\" class=\"data row5 col6\" >0.4144</td>\n",
              "      <td id=\"T_56c23_row5_col7\" class=\"data row5 col7\" >0.1990</td>\n",
              "    </tr>\n",
              "    <tr>\n",
              "      <th id=\"T_56c23_level0_row6\" class=\"row_heading level0 row6\" >ridge</th>\n",
              "      <td id=\"T_56c23_row6_col0\" class=\"data row6 col0\" >Ridge Regression</td>\n",
              "      <td id=\"T_56c23_row6_col1\" class=\"data row6 col1\" >4340.8878</td>\n",
              "      <td id=\"T_56c23_row6_col2\" class=\"data row6 col2\" >39165423.6484</td>\n",
              "      <td id=\"T_56c23_row6_col3\" class=\"data row6 col3\" >6249.4912</td>\n",
              "      <td id=\"T_56c23_row6_col4\" class=\"data row6 col4\" >0.7201</td>\n",
              "      <td id=\"T_56c23_row6_col5\" class=\"data row6 col5\" >0.5658</td>\n",
              "      <td id=\"T_56c23_row6_col6\" class=\"data row6 col6\" >0.4248</td>\n",
              "      <td id=\"T_56c23_row6_col7\" class=\"data row6 col7\" >0.0910</td>\n",
              "    </tr>\n",
              "    <tr>\n",
              "      <th id=\"T_56c23_level0_row7\" class=\"row_heading level0 row7\" >br</th>\n",
              "      <td id=\"T_56c23_row7_col0\" class=\"data row7 col0\" >Bayesian Ridge</td>\n",
              "      <td id=\"T_56c23_row7_col1\" class=\"data row7 col1\" >4335.1987</td>\n",
              "      <td id=\"T_56c23_row7_col2\" class=\"data row7 col2\" >39164682.7509</td>\n",
              "      <td id=\"T_56c23_row7_col3\" class=\"data row7 col3\" >6249.3461</td>\n",
              "      <td id=\"T_56c23_row7_col4\" class=\"data row7 col4\" >0.7200</td>\n",
              "      <td id=\"T_56c23_row7_col5\" class=\"data row7 col5\" >0.5687</td>\n",
              "      <td id=\"T_56c23_row7_col6\" class=\"data row7 col6\" >0.4238</td>\n",
              "      <td id=\"T_56c23_row7_col7\" class=\"data row7 col7\" >0.1560</td>\n",
              "    </tr>\n",
              "    <tr>\n",
              "      <th id=\"T_56c23_level0_row8\" class=\"row_heading level0 row8\" >llar</th>\n",
              "      <td id=\"T_56c23_row8_col0\" class=\"data row8 col0\" >Lasso Least Angle Regression</td>\n",
              "      <td id=\"T_56c23_row8_col1\" class=\"data row8 col1\" >4328.1656</td>\n",
              "      <td id=\"T_56c23_row8_col2\" class=\"data row8 col2\" >39159776.1423</td>\n",
              "      <td id=\"T_56c23_row8_col3\" class=\"data row8 col3\" >6248.8431</td>\n",
              "      <td id=\"T_56c23_row8_col4\" class=\"data row8 col4\" >0.7200</td>\n",
              "      <td id=\"T_56c23_row8_col5\" class=\"data row8 col5\" >0.5730</td>\n",
              "      <td id=\"T_56c23_row8_col6\" class=\"data row8 col6\" >0.4227</td>\n",
              "      <td id=\"T_56c23_row8_col7\" class=\"data row8 col7\" >0.0860</td>\n",
              "    </tr>\n",
              "    <tr>\n",
              "      <th id=\"T_56c23_level0_row9\" class=\"row_heading level0 row9\" >lar</th>\n",
              "      <td id=\"T_56c23_row9_col0\" class=\"data row9 col0\" >Least Angle Regression</td>\n",
              "      <td id=\"T_56c23_row9_col1\" class=\"data row9 col1\" >4328.0066</td>\n",
              "      <td id=\"T_56c23_row9_col2\" class=\"data row9 col2\" >39162677.4878</td>\n",
              "      <td id=\"T_56c23_row9_col3\" class=\"data row9 col3\" >6249.0787</td>\n",
              "      <td id=\"T_56c23_row9_col4\" class=\"data row9 col4\" >0.7200</td>\n",
              "      <td id=\"T_56c23_row9_col5\" class=\"data row9 col5\" >0.5732</td>\n",
              "      <td id=\"T_56c23_row9_col6\" class=\"data row9 col6\" >0.4226</td>\n",
              "      <td id=\"T_56c23_row9_col7\" class=\"data row9 col7\" >0.0840</td>\n",
              "    </tr>\n",
              "    <tr>\n",
              "      <th id=\"T_56c23_level0_row10\" class=\"row_heading level0 row10\" >lasso</th>\n",
              "      <td id=\"T_56c23_row10_col0\" class=\"data row10 col0\" >Lasso Regression</td>\n",
              "      <td id=\"T_56c23_row10_col1\" class=\"data row10 col1\" >4328.1668</td>\n",
              "      <td id=\"T_56c23_row10_col2\" class=\"data row10 col2\" >39159789.3705</td>\n",
              "      <td id=\"T_56c23_row10_col3\" class=\"data row10 col3\" >6248.8440</td>\n",
              "      <td id=\"T_56c23_row10_col4\" class=\"data row10 col4\" >0.7200</td>\n",
              "      <td id=\"T_56c23_row10_col5\" class=\"data row10 col5\" >0.5730</td>\n",
              "      <td id=\"T_56c23_row10_col6\" class=\"data row10 col6\" >0.4227</td>\n",
              "      <td id=\"T_56c23_row10_col7\" class=\"data row10 col7\" >0.1030</td>\n",
              "    </tr>\n",
              "    <tr>\n",
              "      <th id=\"T_56c23_level0_row11\" class=\"row_heading level0 row11\" >lr</th>\n",
              "      <td id=\"T_56c23_row11_col0\" class=\"data row11 col0\" >Linear Regression</td>\n",
              "      <td id=\"T_56c23_row11_col1\" class=\"data row11 col1\" >4328.0066</td>\n",
              "      <td id=\"T_56c23_row11_col2\" class=\"data row11 col2\" >39162677.4878</td>\n",
              "      <td id=\"T_56c23_row11_col3\" class=\"data row11 col3\" >6249.0787</td>\n",
              "      <td id=\"T_56c23_row11_col4\" class=\"data row11 col4\" >0.7200</td>\n",
              "      <td id=\"T_56c23_row11_col5\" class=\"data row11 col5\" >0.5732</td>\n",
              "      <td id=\"T_56c23_row11_col6\" class=\"data row11 col6\" >0.4226</td>\n",
              "      <td id=\"T_56c23_row11_col7\" class=\"data row11 col7\" >0.6750</td>\n",
              "    </tr>\n",
              "    <tr>\n",
              "      <th id=\"T_56c23_level0_row12\" class=\"row_heading level0 row12\" >dt</th>\n",
              "      <td id=\"T_56c23_row12_col0\" class=\"data row12 col0\" >Decision Tree Regressor</td>\n",
              "      <td id=\"T_56c23_row12_col1\" class=\"data row12 col1\" >3222.1230</td>\n",
              "      <td id=\"T_56c23_row12_col2\" class=\"data row12 col2\" >44022461.0563</td>\n",
              "      <td id=\"T_56c23_row12_col3\" class=\"data row12 col3\" >6620.3881</td>\n",
              "      <td id=\"T_56c23_row12_col4\" class=\"data row12 col4\" >0.6893</td>\n",
              "      <td id=\"T_56c23_row12_col5\" class=\"data row12 col5\" >0.5154</td>\n",
              "      <td id=\"T_56c23_row12_col6\" class=\"data row12 col6\" >0.3334</td>\n",
              "      <td id=\"T_56c23_row12_col7\" class=\"data row12 col7\" >0.0850</td>\n",
              "    </tr>\n",
              "    <tr>\n",
              "      <th id=\"T_56c23_level0_row13\" class=\"row_heading level0 row13\" >huber</th>\n",
              "      <td id=\"T_56c23_row13_col0\" class=\"data row13 col0\" >Huber Regressor</td>\n",
              "      <td id=\"T_56c23_row13_col1\" class=\"data row13 col1\" >3509.6235</td>\n",
              "      <td id=\"T_56c23_row13_col2\" class=\"data row13 col2\" >49644409.3225</td>\n",
              "      <td id=\"T_56c23_row13_col3\" class=\"data row13 col3\" >7024.6222</td>\n",
              "      <td id=\"T_56c23_row13_col4\" class=\"data row13 col4\" >0.6417</td>\n",
              "      <td id=\"T_56c23_row13_col5\" class=\"data row13 col5\" >0.4791</td>\n",
              "      <td id=\"T_56c23_row13_col6\" class=\"data row13 col6\" >0.2228</td>\n",
              "      <td id=\"T_56c23_row13_col7\" class=\"data row13 col7\" >0.1780</td>\n",
              "    </tr>\n",
              "    <tr>\n",
              "      <th id=\"T_56c23_level0_row14\" class=\"row_heading level0 row14\" >par</th>\n",
              "      <td id=\"T_56c23_row14_col0\" class=\"data row14 col0\" >Passive Aggressive Regressor</td>\n",
              "      <td id=\"T_56c23_row14_col1\" class=\"data row14 col1\" >4343.0010</td>\n",
              "      <td id=\"T_56c23_row14_col2\" class=\"data row14 col2\" >64638549.6337</td>\n",
              "      <td id=\"T_56c23_row14_col3\" class=\"data row14 col3\" >7991.0152</td>\n",
              "      <td id=\"T_56c23_row14_col4\" class=\"data row14 col4\" >0.5527</td>\n",
              "      <td id=\"T_56c23_row14_col5\" class=\"data row14 col5\" >0.4838</td>\n",
              "      <td id=\"T_56c23_row14_col6\" class=\"data row14 col6\" >0.2819</td>\n",
              "      <td id=\"T_56c23_row14_col7\" class=\"data row14 col7\" >0.1630</td>\n",
              "    </tr>\n",
              "    <tr>\n",
              "      <th id=\"T_56c23_level0_row15\" class=\"row_heading level0 row15\" >en</th>\n",
              "      <td id=\"T_56c23_row15_col0\" class=\"data row15 col0\" >Elastic Net</td>\n",
              "      <td id=\"T_56c23_row15_col1\" class=\"data row15 col1\" >7322.3791</td>\n",
              "      <td id=\"T_56c23_row15_col2\" class=\"data row15 col2\" >90732314.2930</td>\n",
              "      <td id=\"T_56c23_row15_col3\" class=\"data row15 col3\" >9492.6579</td>\n",
              "      <td id=\"T_56c23_row15_col4\" class=\"data row15 col4\" >0.3705</td>\n",
              "      <td id=\"T_56c23_row15_col5\" class=\"data row15 col5\" >0.7212</td>\n",
              "      <td id=\"T_56c23_row15_col6\" class=\"data row15 col6\" >0.8948</td>\n",
              "      <td id=\"T_56c23_row15_col7\" class=\"data row15 col7\" >0.0840</td>\n",
              "    </tr>\n",
              "    <tr>\n",
              "      <th id=\"T_56c23_level0_row16\" class=\"row_heading level0 row16\" >knn</th>\n",
              "      <td id=\"T_56c23_row16_col0\" class=\"data row16 col0\" >K Neighbors Regressor</td>\n",
              "      <td id=\"T_56c23_row16_col1\" class=\"data row16 col1\" >7912.4407</td>\n",
              "      <td id=\"T_56c23_row16_col2\" class=\"data row16 col2\" >129865921.6000</td>\n",
              "      <td id=\"T_56c23_row16_col3\" class=\"data row16 col3\" >11350.6107</td>\n",
              "      <td id=\"T_56c23_row16_col4\" class=\"data row16 col4\" >0.0986</td>\n",
              "      <td id=\"T_56c23_row16_col5\" class=\"data row16 col5\" >0.8302</td>\n",
              "      <td id=\"T_56c23_row16_col6\" class=\"data row16 col6\" >0.9212</td>\n",
              "      <td id=\"T_56c23_row16_col7\" class=\"data row16 col7\" >0.0900</td>\n",
              "    </tr>\n",
              "    <tr>\n",
              "      <th id=\"T_56c23_level0_row17\" class=\"row_heading level0 row17\" >omp</th>\n",
              "      <td id=\"T_56c23_row17_col0\" class=\"data row17 col0\" >Orthogonal Matching Pursuit</td>\n",
              "      <td id=\"T_56c23_row17_col1\" class=\"data row17 col1\" >9009.8480</td>\n",
              "      <td id=\"T_56c23_row17_col2\" class=\"data row17 col2\" >132704887.2696</td>\n",
              "      <td id=\"T_56c23_row17_col3\" class=\"data row17 col3\" >11464.2397</td>\n",
              "      <td id=\"T_56c23_row17_col4\" class=\"data row17 col4\" >0.0844</td>\n",
              "      <td id=\"T_56c23_row17_col5\" class=\"data row17 col5\" >0.8596</td>\n",
              "      <td id=\"T_56c23_row17_col6\" class=\"data row17 col6\" >1.1108</td>\n",
              "      <td id=\"T_56c23_row17_col7\" class=\"data row17 col7\" >0.1290</td>\n",
              "    </tr>\n",
              "    <tr>\n",
              "      <th id=\"T_56c23_level0_row18\" class=\"row_heading level0 row18\" >dummy</th>\n",
              "      <td id=\"T_56c23_row18_col0\" class=\"data row18 col0\" >Dummy Regressor</td>\n",
              "      <td id=\"T_56c23_row18_col1\" class=\"data row18 col1\" >9042.5150</td>\n",
              "      <td id=\"T_56c23_row18_col2\" class=\"data row18 col2\" >146590386.4000</td>\n",
              "      <td id=\"T_56c23_row18_col3\" class=\"data row18 col3\" >12059.4876</td>\n",
              "      <td id=\"T_56c23_row18_col4\" class=\"data row18 col4\" >-0.0140</td>\n",
              "      <td id=\"T_56c23_row18_col5\" class=\"data row18 col5\" >0.9826</td>\n",
              "      <td id=\"T_56c23_row18_col6\" class=\"data row18 col6\" >1.4715</td>\n",
              "      <td id=\"T_56c23_row18_col7\" class=\"data row18 col7\" >0.0810</td>\n",
              "    </tr>\n",
              "  </tbody>\n",
              "</table>\n"
            ]
          },
          "metadata": {}
        },
        {
          "output_type": "display_data",
          "data": {
            "text/plain": [
              "Processing:   0%|          | 0/81 [00:00<?, ?it/s]"
            ],
            "application/vnd.jupyter.widget-view+json": {
              "version_major": 2,
              "version_minor": 0,
              "model_id": "5958c3dff00b438abd0f67cdc9501b16"
            }
          },
          "metadata": {
            "application/vnd.jupyter.widget-view+json": {
              "colab": {
                "custom_widget_manager": {
                  "url": "https://ssl.gstatic.com/colaboratory-static/widgets/colab-cdn-widget-manager/b3e629b1971e1542/manager.min.js"
                }
              }
            }
          }
        },
        {
          "output_type": "display_data",
          "data": {
            "text/plain": [
              "<IPython.core.display.HTML object>"
            ],
            "text/html": []
          },
          "metadata": {}
        }
      ]
    },
    {
      "cell_type": "markdown",
      "source": [
        "## Model Evaluation"
      ],
      "metadata": {
        "id": "_q6avrYyxix4"
      }
    },
    {
      "cell_type": "code",
      "source": [
        "evaluate_model(best_model)"
      ],
      "metadata": {
        "colab": {
          "base_uri": "https://localhost:8080/",
          "height": 610,
          "referenced_widgets": [
            "3fae1c395abe46349f983990342600b8",
            "3d058312862842a7a9b8f5bd207eb422",
            "19a2f7e1ab244d73b5224f76918e18f0",
            "4a02af5f43a94810a236d9ec085daed5",
            "8eb20e692d6745d7aec016b4e0c3d1c7",
            "4e7b4cb61f1a4f3ba42c30601b71b1a5",
            "8cf75f2133c7428db4c928bafb857184"
          ]
        },
        "id": "6sXASLvjjO6s",
        "outputId": "baa2a967-9562-440e-ac72-419f03277298"
      },
      "execution_count": 12,
      "outputs": [
        {
          "output_type": "display_data",
          "data": {
            "text/plain": [
              "interactive(children=(ToggleButtons(description='Plot Type:', icons=('',), options=(('Pipeline Plot', 'pipelin…"
            ],
            "application/vnd.jupyter.widget-view+json": {
              "version_major": 2,
              "version_minor": 0,
              "model_id": "3fae1c395abe46349f983990342600b8"
            }
          },
          "metadata": {
            "application/vnd.jupyter.widget-view+json": {
              "colab": {
                "custom_widget_manager": {
                  "url": "https://ssl.gstatic.com/colaboratory-static/widgets/colab-cdn-widget-manager/b3e629b1971e1542/manager.min.js"
                }
              }
            }
          }
        }
      ]
    },
    {
      "cell_type": "markdown",
      "source": [
        "## Model Saving"
      ],
      "metadata": {
        "id": "sXl9sNSYytEY"
      }
    },
    {
      "cell_type": "code",
      "source": [
        "save_model(best_model, 'gbr')"
      ],
      "metadata": {
        "colab": {
          "base_uri": "https://localhost:8080/"
        },
        "id": "p7M6WYh9mJm5",
        "outputId": "feb8c03e-24d9-46cb-9a98-cd14c1742456"
      },
      "execution_count": 13,
      "outputs": [
        {
          "output_type": "stream",
          "name": "stdout",
          "text": [
            "Transformation Pipeline and Model Successfully Saved\n"
          ]
        },
        {
          "output_type": "execute_result",
          "data": {
            "text/plain": [
              "(Pipeline(memory=Memory(location=None),\n",
              "          steps=[('numerical_imputer',\n",
              "                  TransformerWrapper(include=['age', 'bmi', 'children'],\n",
              "                                     transformer=SimpleImputer())),\n",
              "                 ('categorical_imputer',\n",
              "                  TransformerWrapper(include=['sex', 'smoker', 'region'],\n",
              "                                     transformer=SimpleImputer(strategy='most_frequent'))),\n",
              "                 ('ordinal_encoding',\n",
              "                  TransformerWrapper(include=['sex', 'smoker'],\n",
              "                                     transfor...\n",
              "                                                                          'data_type': dtype('O'),\n",
              "                                                                          'mapping': female    0\n",
              " male      1\n",
              " NaN      -1\n",
              " dtype: int64},\n",
              "                                                                         {'col': 'smoker',\n",
              "                                                                          'data_type': dtype('O'),\n",
              "                                                                          'mapping': no     0\n",
              " yes    1\n",
              " NaN   -1\n",
              " dtype: int64}]))),\n",
              "                 ('onehot_encoding',\n",
              "                  TransformerWrapper(include=['region'],\n",
              "                                     transformer=OneHotEncoder(cols=['region'],\n",
              "                                                               handle_missing='return_nan',\n",
              "                                                               use_cat_names=True))),\n",
              "                 ('trained_model',\n",
              "                  GradientBoostingRegressor(random_state=7841))]),\n",
              " 'gbr.pkl')"
            ]
          },
          "metadata": {},
          "execution_count": 13
        }
      ]
    }
  ],
  "metadata": {
    "kernelspec": {
      "display_name": "Python 3",
      "language": "python",
      "name": "python3"
    },
    "language_info": {
      "codemirror_mode": {
        "name": "ipython",
        "version": 3
      },
      "file_extension": ".py",
      "mimetype": "text/x-python",
      "name": "python",
      "nbconvert_exporter": "python",
      "pygments_lexer": "ipython3",
      "version": "3.7.6"
    },
    "colab": {
      "provenance": []
    },
    "widgets": {
      "application/vnd.jupyter.widget-state+json": {
        "5958c3dff00b438abd0f67cdc9501b16": {
          "model_module": "@jupyter-widgets/controls",
          "model_name": "HBoxModel",
          "model_module_version": "1.5.0",
          "state": {
            "_dom_classes": [],
            "_model_module": "@jupyter-widgets/controls",
            "_model_module_version": "1.5.0",
            "_model_name": "HBoxModel",
            "_view_count": null,
            "_view_module": "@jupyter-widgets/controls",
            "_view_module_version": "1.5.0",
            "_view_name": "HBoxView",
            "box_style": "",
            "children": [
              "IPY_MODEL_15ac4ca8d0e944b4a9f456b8e92582ac",
              "IPY_MODEL_88ad04f49221483cab604a8d38ee2871",
              "IPY_MODEL_12aa7c190f8c4d0cabfa66c4810fce94"
            ],
            "layout": "IPY_MODEL_720260a81b13489baca0f14244941d0a"
          }
        },
        "15ac4ca8d0e944b4a9f456b8e92582ac": {
          "model_module": "@jupyter-widgets/controls",
          "model_name": "HTMLModel",
          "model_module_version": "1.5.0",
          "state": {
            "_dom_classes": [],
            "_model_module": "@jupyter-widgets/controls",
            "_model_module_version": "1.5.0",
            "_model_name": "HTMLModel",
            "_view_count": null,
            "_view_module": "@jupyter-widgets/controls",
            "_view_module_version": "1.5.0",
            "_view_name": "HTMLView",
            "description": "",
            "description_tooltip": null,
            "layout": "IPY_MODEL_e513e79296d64842ac337d75458f3429",
            "placeholder": "​",
            "style": "IPY_MODEL_508f14b8e43c4ee0b8d7a1e7cd0a5b9a",
            "value": "Processing: 100%"
          }
        },
        "88ad04f49221483cab604a8d38ee2871": {
          "model_module": "@jupyter-widgets/controls",
          "model_name": "FloatProgressModel",
          "model_module_version": "1.5.0",
          "state": {
            "_dom_classes": [],
            "_model_module": "@jupyter-widgets/controls",
            "_model_module_version": "1.5.0",
            "_model_name": "FloatProgressModel",
            "_view_count": null,
            "_view_module": "@jupyter-widgets/controls",
            "_view_module_version": "1.5.0",
            "_view_name": "ProgressView",
            "bar_style": "",
            "description": "",
            "description_tooltip": null,
            "layout": "IPY_MODEL_2548a8a0c86b4d2b94bdefe236b99962",
            "max": 81,
            "min": 0,
            "orientation": "horizontal",
            "style": "IPY_MODEL_0cdbe439b61849c39d1fdea955d69eed",
            "value": 81
          }
        },
        "12aa7c190f8c4d0cabfa66c4810fce94": {
          "model_module": "@jupyter-widgets/controls",
          "model_name": "HTMLModel",
          "model_module_version": "1.5.0",
          "state": {
            "_dom_classes": [],
            "_model_module": "@jupyter-widgets/controls",
            "_model_module_version": "1.5.0",
            "_model_name": "HTMLModel",
            "_view_count": null,
            "_view_module": "@jupyter-widgets/controls",
            "_view_module_version": "1.5.0",
            "_view_name": "HTMLView",
            "description": "",
            "description_tooltip": null,
            "layout": "IPY_MODEL_38f24a824810412ebdd5acb6459b67a2",
            "placeholder": "​",
            "style": "IPY_MODEL_bdcf1b85e63643b29ec200c705445404",
            "value": " 81/81 [00:41&lt;00:00,  2.75it/s]"
          }
        },
        "720260a81b13489baca0f14244941d0a": {
          "model_module": "@jupyter-widgets/base",
          "model_name": "LayoutModel",
          "model_module_version": "1.2.0",
          "state": {
            "_model_module": "@jupyter-widgets/base",
            "_model_module_version": "1.2.0",
            "_model_name": "LayoutModel",
            "_view_count": null,
            "_view_module": "@jupyter-widgets/base",
            "_view_module_version": "1.2.0",
            "_view_name": "LayoutView",
            "align_content": null,
            "align_items": null,
            "align_self": null,
            "border": null,
            "bottom": null,
            "display": null,
            "flex": null,
            "flex_flow": null,
            "grid_area": null,
            "grid_auto_columns": null,
            "grid_auto_flow": null,
            "grid_auto_rows": null,
            "grid_column": null,
            "grid_gap": null,
            "grid_row": null,
            "grid_template_areas": null,
            "grid_template_columns": null,
            "grid_template_rows": null,
            "height": null,
            "justify_content": null,
            "justify_items": null,
            "left": null,
            "margin": null,
            "max_height": null,
            "max_width": null,
            "min_height": null,
            "min_width": null,
            "object_fit": null,
            "object_position": null,
            "order": null,
            "overflow": null,
            "overflow_x": null,
            "overflow_y": null,
            "padding": null,
            "right": null,
            "top": null,
            "visibility": "hidden",
            "width": null
          }
        },
        "e513e79296d64842ac337d75458f3429": {
          "model_module": "@jupyter-widgets/base",
          "model_name": "LayoutModel",
          "model_module_version": "1.2.0",
          "state": {
            "_model_module": "@jupyter-widgets/base",
            "_model_module_version": "1.2.0",
            "_model_name": "LayoutModel",
            "_view_count": null,
            "_view_module": "@jupyter-widgets/base",
            "_view_module_version": "1.2.0",
            "_view_name": "LayoutView",
            "align_content": null,
            "align_items": null,
            "align_self": null,
            "border": null,
            "bottom": null,
            "display": null,
            "flex": null,
            "flex_flow": null,
            "grid_area": null,
            "grid_auto_columns": null,
            "grid_auto_flow": null,
            "grid_auto_rows": null,
            "grid_column": null,
            "grid_gap": null,
            "grid_row": null,
            "grid_template_areas": null,
            "grid_template_columns": null,
            "grid_template_rows": null,
            "height": null,
            "justify_content": null,
            "justify_items": null,
            "left": null,
            "margin": null,
            "max_height": null,
            "max_width": null,
            "min_height": null,
            "min_width": null,
            "object_fit": null,
            "object_position": null,
            "order": null,
            "overflow": null,
            "overflow_x": null,
            "overflow_y": null,
            "padding": null,
            "right": null,
            "top": null,
            "visibility": null,
            "width": null
          }
        },
        "508f14b8e43c4ee0b8d7a1e7cd0a5b9a": {
          "model_module": "@jupyter-widgets/controls",
          "model_name": "DescriptionStyleModel",
          "model_module_version": "1.5.0",
          "state": {
            "_model_module": "@jupyter-widgets/controls",
            "_model_module_version": "1.5.0",
            "_model_name": "DescriptionStyleModel",
            "_view_count": null,
            "_view_module": "@jupyter-widgets/base",
            "_view_module_version": "1.2.0",
            "_view_name": "StyleView",
            "description_width": ""
          }
        },
        "2548a8a0c86b4d2b94bdefe236b99962": {
          "model_module": "@jupyter-widgets/base",
          "model_name": "LayoutModel",
          "model_module_version": "1.2.0",
          "state": {
            "_model_module": "@jupyter-widgets/base",
            "_model_module_version": "1.2.0",
            "_model_name": "LayoutModel",
            "_view_count": null,
            "_view_module": "@jupyter-widgets/base",
            "_view_module_version": "1.2.0",
            "_view_name": "LayoutView",
            "align_content": null,
            "align_items": null,
            "align_self": null,
            "border": null,
            "bottom": null,
            "display": null,
            "flex": null,
            "flex_flow": null,
            "grid_area": null,
            "grid_auto_columns": null,
            "grid_auto_flow": null,
            "grid_auto_rows": null,
            "grid_column": null,
            "grid_gap": null,
            "grid_row": null,
            "grid_template_areas": null,
            "grid_template_columns": null,
            "grid_template_rows": null,
            "height": null,
            "justify_content": null,
            "justify_items": null,
            "left": null,
            "margin": null,
            "max_height": null,
            "max_width": null,
            "min_height": null,
            "min_width": null,
            "object_fit": null,
            "object_position": null,
            "order": null,
            "overflow": null,
            "overflow_x": null,
            "overflow_y": null,
            "padding": null,
            "right": null,
            "top": null,
            "visibility": null,
            "width": null
          }
        },
        "0cdbe439b61849c39d1fdea955d69eed": {
          "model_module": "@jupyter-widgets/controls",
          "model_name": "ProgressStyleModel",
          "model_module_version": "1.5.0",
          "state": {
            "_model_module": "@jupyter-widgets/controls",
            "_model_module_version": "1.5.0",
            "_model_name": "ProgressStyleModel",
            "_view_count": null,
            "_view_module": "@jupyter-widgets/base",
            "_view_module_version": "1.2.0",
            "_view_name": "StyleView",
            "bar_color": null,
            "description_width": ""
          }
        },
        "38f24a824810412ebdd5acb6459b67a2": {
          "model_module": "@jupyter-widgets/base",
          "model_name": "LayoutModel",
          "model_module_version": "1.2.0",
          "state": {
            "_model_module": "@jupyter-widgets/base",
            "_model_module_version": "1.2.0",
            "_model_name": "LayoutModel",
            "_view_count": null,
            "_view_module": "@jupyter-widgets/base",
            "_view_module_version": "1.2.0",
            "_view_name": "LayoutView",
            "align_content": null,
            "align_items": null,
            "align_self": null,
            "border": null,
            "bottom": null,
            "display": null,
            "flex": null,
            "flex_flow": null,
            "grid_area": null,
            "grid_auto_columns": null,
            "grid_auto_flow": null,
            "grid_auto_rows": null,
            "grid_column": null,
            "grid_gap": null,
            "grid_row": null,
            "grid_template_areas": null,
            "grid_template_columns": null,
            "grid_template_rows": null,
            "height": null,
            "justify_content": null,
            "justify_items": null,
            "left": null,
            "margin": null,
            "max_height": null,
            "max_width": null,
            "min_height": null,
            "min_width": null,
            "object_fit": null,
            "object_position": null,
            "order": null,
            "overflow": null,
            "overflow_x": null,
            "overflow_y": null,
            "padding": null,
            "right": null,
            "top": null,
            "visibility": null,
            "width": null
          }
        },
        "bdcf1b85e63643b29ec200c705445404": {
          "model_module": "@jupyter-widgets/controls",
          "model_name": "DescriptionStyleModel",
          "model_module_version": "1.5.0",
          "state": {
            "_model_module": "@jupyter-widgets/controls",
            "_model_module_version": "1.5.0",
            "_model_name": "DescriptionStyleModel",
            "_view_count": null,
            "_view_module": "@jupyter-widgets/base",
            "_view_module_version": "1.2.0",
            "_view_name": "StyleView",
            "description_width": ""
          }
        },
        "3fae1c395abe46349f983990342600b8": {
          "model_module": "@jupyter-widgets/controls",
          "model_name": "VBoxModel",
          "model_module_version": "1.5.0",
          "state": {
            "_dom_classes": [
              "widget-interact"
            ],
            "_model_module": "@jupyter-widgets/controls",
            "_model_module_version": "1.5.0",
            "_model_name": "VBoxModel",
            "_view_count": null,
            "_view_module": "@jupyter-widgets/controls",
            "_view_module_version": "1.5.0",
            "_view_name": "VBoxView",
            "box_style": "",
            "children": [
              "IPY_MODEL_3d058312862842a7a9b8f5bd207eb422",
              "IPY_MODEL_19a2f7e1ab244d73b5224f76918e18f0"
            ],
            "layout": "IPY_MODEL_4a02af5f43a94810a236d9ec085daed5"
          }
        },
        "3d058312862842a7a9b8f5bd207eb422": {
          "model_module": "@jupyter-widgets/controls",
          "model_name": "ToggleButtonsModel",
          "model_module_version": "1.5.0",
          "state": {
            "_dom_classes": [],
            "_model_module": "@jupyter-widgets/controls",
            "_model_module_version": "1.5.0",
            "_model_name": "ToggleButtonsModel",
            "_options_labels": [
              "Pipeline Plot",
              "Hyperparameters",
              "Residuals",
              "Prediction Error",
              "Cooks Distance",
              "Feature Selection",
              "Learning Curve",
              "Manifold Learning",
              "Validation Curve",
              "Feature Importance",
              "Feature Importance (All)",
              "Decision Tree",
              "Interactive Residuals"
            ],
            "_view_count": null,
            "_view_module": "@jupyter-widgets/controls",
            "_view_module_version": "1.5.0",
            "_view_name": "ToggleButtonsView",
            "button_style": "",
            "description": "Plot Type:",
            "description_tooltip": null,
            "disabled": false,
            "icons": [
              ""
            ],
            "index": 3,
            "layout": "IPY_MODEL_8eb20e692d6745d7aec016b4e0c3d1c7",
            "style": "IPY_MODEL_4e7b4cb61f1a4f3ba42c30601b71b1a5",
            "tooltips": []
          }
        },
        "19a2f7e1ab244d73b5224f76918e18f0": {
          "model_module": "@jupyter-widgets/output",
          "model_name": "OutputModel",
          "model_module_version": "1.0.0",
          "state": {
            "_dom_classes": [],
            "_model_module": "@jupyter-widgets/output",
            "_model_module_version": "1.0.0",
            "_model_name": "OutputModel",
            "_view_count": null,
            "_view_module": "@jupyter-widgets/output",
            "_view_module_version": "1.0.0",
            "_view_name": "OutputView",
            "layout": "IPY_MODEL_8cf75f2133c7428db4c928bafb857184",
            "msg_id": "",
            "outputs": [
              {
                "output_type": "display_data",
                "data": {
                  "text/plain": "<Figure size 800x550 with 1 Axes>",
                  "image/png": "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\n"
                },
                "metadata": {}
              }
            ]
          }
        },
        "4a02af5f43a94810a236d9ec085daed5": {
          "model_module": "@jupyter-widgets/base",
          "model_name": "LayoutModel",
          "model_module_version": "1.2.0",
          "state": {
            "_model_module": "@jupyter-widgets/base",
            "_model_module_version": "1.2.0",
            "_model_name": "LayoutModel",
            "_view_count": null,
            "_view_module": "@jupyter-widgets/base",
            "_view_module_version": "1.2.0",
            "_view_name": "LayoutView",
            "align_content": null,
            "align_items": null,
            "align_self": null,
            "border": null,
            "bottom": null,
            "display": null,
            "flex": null,
            "flex_flow": null,
            "grid_area": null,
            "grid_auto_columns": null,
            "grid_auto_flow": null,
            "grid_auto_rows": null,
            "grid_column": null,
            "grid_gap": null,
            "grid_row": null,
            "grid_template_areas": null,
            "grid_template_columns": null,
            "grid_template_rows": null,
            "height": null,
            "justify_content": null,
            "justify_items": null,
            "left": null,
            "margin": null,
            "max_height": null,
            "max_width": null,
            "min_height": null,
            "min_width": null,
            "object_fit": null,
            "object_position": null,
            "order": null,
            "overflow": null,
            "overflow_x": null,
            "overflow_y": null,
            "padding": null,
            "right": null,
            "top": null,
            "visibility": null,
            "width": null
          }
        },
        "8eb20e692d6745d7aec016b4e0c3d1c7": {
          "model_module": "@jupyter-widgets/base",
          "model_name": "LayoutModel",
          "model_module_version": "1.2.0",
          "state": {
            "_model_module": "@jupyter-widgets/base",
            "_model_module_version": "1.2.0",
            "_model_name": "LayoutModel",
            "_view_count": null,
            "_view_module": "@jupyter-widgets/base",
            "_view_module_version": "1.2.0",
            "_view_name": "LayoutView",
            "align_content": null,
            "align_items": null,
            "align_self": null,
            "border": null,
            "bottom": null,
            "display": null,
            "flex": null,
            "flex_flow": null,
            "grid_area": null,
            "grid_auto_columns": null,
            "grid_auto_flow": null,
            "grid_auto_rows": null,
            "grid_column": null,
            "grid_gap": null,
            "grid_row": null,
            "grid_template_areas": null,
            "grid_template_columns": null,
            "grid_template_rows": null,
            "height": null,
            "justify_content": null,
            "justify_items": null,
            "left": null,
            "margin": null,
            "max_height": null,
            "max_width": null,
            "min_height": null,
            "min_width": null,
            "object_fit": null,
            "object_position": null,
            "order": null,
            "overflow": null,
            "overflow_x": null,
            "overflow_y": null,
            "padding": null,
            "right": null,
            "top": null,
            "visibility": null,
            "width": null
          }
        },
        "4e7b4cb61f1a4f3ba42c30601b71b1a5": {
          "model_module": "@jupyter-widgets/controls",
          "model_name": "ToggleButtonsStyleModel",
          "model_module_version": "1.5.0",
          "state": {
            "_model_module": "@jupyter-widgets/controls",
            "_model_module_version": "1.5.0",
            "_model_name": "ToggleButtonsStyleModel",
            "_view_count": null,
            "_view_module": "@jupyter-widgets/base",
            "_view_module_version": "1.2.0",
            "_view_name": "StyleView",
            "button_width": "",
            "description_width": "",
            "font_weight": ""
          }
        },
        "8cf75f2133c7428db4c928bafb857184": {
          "model_module": "@jupyter-widgets/base",
          "model_name": "LayoutModel",
          "model_module_version": "1.2.0",
          "state": {
            "_model_module": "@jupyter-widgets/base",
            "_model_module_version": "1.2.0",
            "_model_name": "LayoutModel",
            "_view_count": null,
            "_view_module": "@jupyter-widgets/base",
            "_view_module_version": "1.2.0",
            "_view_name": "LayoutView",
            "align_content": null,
            "align_items": null,
            "align_self": null,
            "border": null,
            "bottom": null,
            "display": null,
            "flex": null,
            "flex_flow": null,
            "grid_area": null,
            "grid_auto_columns": null,
            "grid_auto_flow": null,
            "grid_auto_rows": null,
            "grid_column": null,
            "grid_gap": null,
            "grid_row": null,
            "grid_template_areas": null,
            "grid_template_columns": null,
            "grid_template_rows": null,
            "height": null,
            "justify_content": null,
            "justify_items": null,
            "left": null,
            "margin": null,
            "max_height": null,
            "max_width": null,
            "min_height": null,
            "min_width": null,
            "object_fit": null,
            "object_position": null,
            "order": null,
            "overflow": null,
            "overflow_x": null,
            "overflow_y": null,
            "padding": null,
            "right": null,
            "top": null,
            "visibility": null,
            "width": null
          }
        }
      }
    }
  },
  "nbformat": 4,
  "nbformat_minor": 0
}